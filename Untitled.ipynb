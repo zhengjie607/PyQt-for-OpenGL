{
 "cells": [
  {
   "cell_type": "code",
   "execution_count": 1,
   "metadata": {},
   "outputs": [],
   "source": [
    "from OpenGL.GL import shaders"
   ]
  },
  {
   "cell_type": "code",
   "execution_count": 9,
   "metadata": {},
   "outputs": [],
   "source": [
    "from OpenGL.GL import *\n",
    "from OpenGL.arrays import vbo\n",
    "from OpenGL.GL import shaders\n",
    "class TestContext( ):\n",
    "    \"\"\"Demonstrates use of attribute types in GLSL\n",
    "    \"\"\"\n",
    "    def OnInit( self ):\n",
    "        \"\"\"Initialize the context\"\"\""
   ]
  },
  {
   "cell_type": "code",
   "execution_count": 12,
   "metadata": {},
   "outputs": [
    {
     "ename": "NullFunctionError",
     "evalue": "Attempt to call an undefined alternate function (glCreateShader, glCreateShaderObjectARB), check for bool(glCreateShader) before calling",
     "output_type": "error",
     "traceback": [
      "\u001b[1;31m---------------------------------------------------------------------------\u001b[0m",
      "\u001b[1;31mNullFunctionError\u001b[0m                         Traceback (most recent call last)",
      "\u001b[1;32m<ipython-input-12-77a0915cf6d3>\u001b[0m in \u001b[0;36m<module>\u001b[1;34m()\u001b[0m\n\u001b[0;32m     42\u001b[0m                 \u001b[1;33m+\u001b[0m \u001b[1;33m(\u001b[0m\u001b[0mLight_diffuse\u001b[0m \u001b[1;33m*\u001b[0m \u001b[0mMaterial_diffuse\u001b[0m \u001b[1;33m*\u001b[0m \u001b[0mdiffuse_weight\u001b[0m\u001b[1;33m)\u001b[0m\u001b[1;33m\u001b[0m\u001b[0m\n\u001b[0;32m     43\u001b[0m             ), 0.0, 1.0);\n\u001b[1;32m---> 44\u001b[1;33m         }\"\"\", GL_VERTEX_SHADER)\n\u001b[0m\u001b[0;32m     45\u001b[0m \u001b[1;33m\u001b[0m\u001b[0m\n\u001b[0;32m     46\u001b[0m fragment = shaders.compileShader(\"\"\"\n",
      "\u001b[1;32md:\\Users\\PC\\Anaconda3\\lib\\site-packages\\OpenGL\\GL\\shaders.py\u001b[0m in \u001b[0;36mcompileShader\u001b[1;34m(source, shaderType)\u001b[0m\n\u001b[0;32m    211\u001b[0m         \u001b[0msource\u001b[0m \u001b[1;33m=\u001b[0m \u001b[1;33m[\u001b[0m \u001b[0msource\u001b[0m \u001b[1;33m]\u001b[0m\u001b[1;33m\u001b[0m\u001b[0m\n\u001b[0;32m    212\u001b[0m     \u001b[0msource\u001b[0m \u001b[1;33m=\u001b[0m \u001b[1;33m[\u001b[0m \u001b[0mas_8_bit\u001b[0m\u001b[1;33m(\u001b[0m\u001b[0ms\u001b[0m\u001b[1;33m)\u001b[0m \u001b[1;32mfor\u001b[0m \u001b[0ms\u001b[0m \u001b[1;32min\u001b[0m \u001b[0msource\u001b[0m \u001b[1;33m]\u001b[0m\u001b[1;33m\u001b[0m\u001b[0m\n\u001b[1;32m--> 213\u001b[1;33m     \u001b[0mshader\u001b[0m \u001b[1;33m=\u001b[0m \u001b[0mglCreateShader\u001b[0m\u001b[1;33m(\u001b[0m\u001b[0mshaderType\u001b[0m\u001b[1;33m)\u001b[0m\u001b[1;33m\u001b[0m\u001b[0m\n\u001b[0m\u001b[0;32m    214\u001b[0m     \u001b[0mglShaderSource\u001b[0m\u001b[1;33m(\u001b[0m \u001b[0mshader\u001b[0m\u001b[1;33m,\u001b[0m \u001b[0msource\u001b[0m \u001b[1;33m)\u001b[0m\u001b[1;33m\u001b[0m\u001b[0m\n\u001b[0;32m    215\u001b[0m     \u001b[0mglCompileShader\u001b[0m\u001b[1;33m(\u001b[0m \u001b[0mshader\u001b[0m \u001b[1;33m)\u001b[0m\u001b[1;33m\u001b[0m\u001b[0m\n",
      "\u001b[1;32mlatebind.pyx\u001b[0m in \u001b[0;36mOpenGL_accelerate.latebind.LateBind.__call__ (src\\latebind.c:965)\u001b[1;34m()\u001b[0m\n",
      "\u001b[1;32md:\\Users\\PC\\Anaconda3\\lib\\site-packages\\OpenGL\\extensions.py\u001b[0m in \u001b[0;36mfinalise\u001b[1;34m(self)\u001b[0m\n\u001b[0;32m    243\u001b[0m             \"\"\"Attempt to call an undefined alternate function (%s), check for bool(%s) before calling\"\"\"%(\n\u001b[0;32m    244\u001b[0m                 \u001b[1;34m', '\u001b[0m\u001b[1;33m.\u001b[0m\u001b[0mjoin\u001b[0m\u001b[1;33m(\u001b[0m\u001b[1;33m[\u001b[0m\u001b[0mx\u001b[0m\u001b[1;33m.\u001b[0m\u001b[0m__name__\u001b[0m \u001b[1;32mfor\u001b[0m \u001b[0mx\u001b[0m \u001b[1;32min\u001b[0m \u001b[0mself\u001b[0m\u001b[1;33m.\u001b[0m\u001b[0m_alternatives\u001b[0m\u001b[1;33m]\u001b[0m\u001b[1;33m)\u001b[0m\u001b[1;33m,\u001b[0m\u001b[1;33m\u001b[0m\u001b[0m\n\u001b[1;32m--> 245\u001b[1;33m                 \u001b[0mself\u001b[0m\u001b[1;33m.\u001b[0m\u001b[0m__name__\u001b[0m\u001b[1;33m,\u001b[0m\u001b[1;33m\u001b[0m\u001b[0m\n\u001b[0m\u001b[0;32m    246\u001b[0m             )\n\u001b[0;32m    247\u001b[0m         )\n",
      "\u001b[1;31mNullFunctionError\u001b[0m: Attempt to call an undefined alternate function (glCreateShader, glCreateShaderObjectARB), check for bool(glCreateShader) before calling"
     ]
    }
   ],
   "source": [
    "phong_weightCalc = \"\"\"\n",
    "        float phong_weightCalc(\n",
    "            in vec3 light_pos, // light position\n",
    "            in vec3 frag_normal // geometry normal\n",
    "        ) {\n",
    "            // returns vec2( ambientMult, diffuseMult )\n",
    "            float n_dot_pos = max( 0.0, dot(\n",
    "                frag_normal, light_pos\n",
    "            ));\n",
    "            return n_dot_pos;\n",
    "        }\n",
    "        \"\"\"\n",
    "vertex = shaders.compileShader( phong_weightCalc +\n",
    "        \"\"\"\n",
    "        uniform vec4 Global_ambient;\n",
    "        uniform vec4 Light_ambient;\n",
    "        uniform vec4 Light_diffuse;\n",
    "        uniform vec3 Light_location;\n",
    "        uniform vec4 Material_ambient;\n",
    "        uniform vec4 Material_diffuse;\n",
    "        attribute vec3 Vertex_position;\n",
    "        attribute vec3 Vertex_normal;\n",
    "        varying vec4 baseColor;\n",
    "        void main() {\n",
    "            gl_Position = gl_ModelViewProjectionMatrix * vec4(\n",
    "                Vertex_position, 1.0\n",
    "            );\n",
    "            vec3 EC_Light_location = gl_NormalMatrix * Light_location;\n",
    "            float diffuse_weight = phong_weightCalc(\n",
    "                normalize(EC_Light_location),\n",
    "                normalize(gl_NormalMatrix * Vertex_normal)\n",
    "            );\n",
    "            baseColor = clamp(\n",
    "            (\n",
    "                // global component\n",
    "                (Global_ambient * Material_ambient)\n",
    "                // material's interaction with light's contribution\n",
    "                // to the ambient lighting...\n",
    "                + (Light_ambient * Material_ambient)\n",
    "                // material's interaction with the direct light from\n",
    "                // the light.\n",
    "                + (Light_diffuse * Material_diffuse * diffuse_weight)\n",
    "            ), 0.0, 1.0);\n",
    "        }\"\"\", GL_VERTEX_SHADER)\n",
    "        \n",
    "fragment = shaders.compileShader(\"\"\"\n",
    "        varying vec4 baseColor;\n",
    "        void main() {\n",
    "            gl_FragColor = baseColor;\n",
    "        }\n",
    "        \"\"\", GL_FRAGMENT_SHADER)\n",
    "\n",
    "shader = shaders.compileProgram(vertex,fragment)"
   ]
  },
  {
   "cell_type": "code",
   "execution_count": null,
   "metadata": {},
   "outputs": [],
   "source": []
  }
 ],
 "metadata": {
  "kernelspec": {
   "display_name": "Python 3",
   "language": "python",
   "name": "python3"
  },
  "language_info": {
   "codemirror_mode": {
    "name": "ipython",
    "version": 3
   },
   "file_extension": ".py",
   "mimetype": "text/x-python",
   "name": "python",
   "nbconvert_exporter": "python",
   "pygments_lexer": "ipython3",
   "version": "3.6.5"
  }
 },
 "nbformat": 4,
 "nbformat_minor": 2
}
