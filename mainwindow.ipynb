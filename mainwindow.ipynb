{
 "cells": [
  {
   "cell_type": "code",
   "execution_count": 1,
   "metadata": {
    "scrolled": true
   },
   "outputs": [
    {
     "name": "stdout",
     "output_type": "stream",
     "text": [
      "b'>7\\x00\\x00'\n",
      "(14142,)\n",
      "[[ 2.7492437e+01  6.2015907e+01  2.1401041e+01 -6.4899995e-15\n",
      "   1.2630430e-01 -9.9199158e-01]\n",
      " [ 2.6663876e+01  6.1541367e+01  2.1340620e+01 -6.4899995e-15\n",
      "   1.2630430e-01 -9.9199158e-01]\n",
      " [ 2.6670000e+01  6.3500004e+01  2.1590000e+01 -6.4899995e-15\n",
      "   1.2630430e-01 -9.9199158e-01]\n",
      " ...\n",
      " [ 2.6416000e+01  5.5656036e+01  2.1626165e+01 -1.5931770e-14\n",
      "  -1.2630430e-01  9.9199158e-01]\n",
      " [ 2.8320999e+01  5.4362446e+01  2.1461458e+01 -1.5931770e-14\n",
      "  -1.2630430e-01  9.9199158e-01]\n",
      " [ 2.8320999e+01  5.5013119e+01  2.1544306e+01 -1.5931770e-14\n",
      "  -1.2630430e-01  9.9199158e-01]]\n"
     ]
    },
    {
     "ename": "SystemExit",
     "evalue": "",
     "output_type": "error",
     "traceback": [
      "An exception has occurred, use %tb to see the full traceback.\n",
      "\u001b[1;31mSystemExit\u001b[0m\n"
     ]
    },
    {
     "name": "stderr",
     "output_type": "stream",
     "text": [
      "d:\\Users\\PC\\Anaconda3\\lib\\site-packages\\IPython\\core\\interactiveshell.py:2971: UserWarning: To exit: use 'exit', 'quit', or Ctrl-D.\n",
      "  warn(\"To exit: use 'exit', 'quit', or Ctrl-D.\", stacklevel=1)\n"
     ]
    }
   ],
   "source": [
    "from PyQt5 import QtCore, QtGui, QtWidgets\n",
    "from numpy import *\n",
    "import math\n",
    "from Optimizermaster.FileHandler import FileHandler\n",
    "import sys\n",
    "from gl_widget import GLWidget\n",
    "from Light import Materials\n",
    "from OpenGL.GL import *\n",
    "from OpenGL.arrays import vbo\n",
    "from OpenGL.GLU import *\n",
    "from OpenGL.GLUT import *\n",
    "import cv2\n",
    "import matrix\n",
    "import time\n",
    "model=[]\n",
    "class myform(QtWidgets.QWidget):\n",
    "    \n",
    "    def __init__(self):\n",
    "        super(myform,self).__init__()\n",
    "        #窗口\n",
    "        self.setObjectName(\"Form\")\n",
    "        self.resize(900, 900)\n",
    "        self.setWindowTitle(QtCore.QCoreApplication.translate(\"Form\", \"Form\"))\n",
    "        \n",
    "        #直接引用自定义opengl类\n",
    "        self.opengl_widget=GLWidget(self)\n",
    "        \n",
    "        #self.btn 打开文件\n",
    "        self.btn=QtWidgets.QPushButton(self)\n",
    "        self.btn.setGeometry(QtCore.QRect(710, 40, 75, 23))\n",
    "        self.btn.setObjectName(\"pushButton\")\n",
    "        self.btn.setText(\"打开文件\")\n",
    "        self.btn.clicked.connect(self.getfile)\n",
    "        \n",
    "        #self.cb  选择材质\n",
    "        self.cb=QtWidgets.QComboBox(self)\n",
    "        self.cb.setGeometry(QtCore.QRect(710,70,100,20))\n",
    "        self.cb.addItems(['黄铜','青铜','亮青铜','铬','铜','亮铜','金','亮金',\n",
    "                          '白蜡','银','亮银','祖母绿',\n",
    "                          '碧玉','黑曜石','珍珠','红宝石','绿宝石','黑塑料','黑橡胶','紫罗兰'])\n",
    "        self.cb.currentIndexChanged.connect(self.selectionChange)\n",
    "        \n",
    "        self.btn_image=QtWidgets.QPushButton(self)\n",
    "        self.btn_image.setGeometry(QtCore.QRect(710, 100, 75, 23))\n",
    "        self.btn_image.setObjectName(\"pushButton_image\")\n",
    "        self.btn_image.setText(\"截图\")\n",
    "        self.btn_image.clicked.connect(self.getimage)\n",
    "        \n",
    "        self.btn_rotate=QtWidgets.QPushButton(self)\n",
    "        self.btn_rotate.setGeometry(QtCore.QRect(710, 360, 75, 23))\n",
    "        self.btn_rotate.setObjectName(\"pushButton_rotate\")\n",
    "        self.btn_rotate.setText(\"旋转\")\n",
    "        self.btn_rotate.clicked.connect(self.rote)\n",
    "        \n",
    "        self.btn_rotate=QtWidgets.QPushButton(self)\n",
    "        self.btn_rotate.setGeometry(QtCore.QRect(710, 390, 75, 23))\n",
    "        self.btn_rotate.setObjectName(\"pushButton_translate\")\n",
    "        self.btn_rotate.setText(\"平移\")\n",
    "        self.btn_rotate.clicked.connect(self.translate)\n",
    "        \n",
    "        self.btn_rotate=QtWidgets.QPushButton(self)\n",
    "        self.btn_rotate.setGeometry(QtCore.QRect(710, 430, 75, 23))\n",
    "        self.btn_rotate.setObjectName(\"pushButton_rotate_camera\")\n",
    "        self.btn_rotate.setText(\"旋转相机\")\n",
    "        self.btn_rotate.clicked.connect(self.rotate_camera)\n",
    "        self.isrotatecamera=False\n",
    "        self.timer=QtCore.QTimer(self)\n",
    "        self.timer.timeout.connect(self.ro)\n",
    "        \n",
    "        self.qlistwidget=QtWidgets.QListWidget(self)\n",
    "        self.qlistwidget.setGeometry(QtCore.QRect(720,140,100,200))\n",
    "        self.qlistwidget.setObjectName('Object Name')\n",
    "    def getfile(self):\n",
    "        dlg=QtWidgets.QFileDialog()\n",
    "        f=dlg.getOpenFileName(self,'Open File','.','STL File (*.stl)')\n",
    "        file=FileHandler().load_mesh(f[0])#f[0]是路径，f[1]是类型\n",
    "        data=array(file['mesh'],'f')\n",
    "        print(data)\n",
    "        model.append({'material':Materials[0],'data':data})\n",
    "        self.qlistwidget.addItem(f[0].split('/')[-1].split('.')[0])\n",
    "        self.qlistwidget.setCurrentItem(self.qlistwidget.item(0))\n",
    "        self.opengl_widget.initdata(model)\n",
    "        #print(data)\n",
    "        self.opengl_widget.update()\n",
    "    def selectionChange(self):\n",
    "        print(self.cb.currentIndex())\n",
    "        self.opengl_widget.model[self.qlistwidget.currentIndex().row()]['material']=Materials[self.cb.currentIndex()]\n",
    "        self.opengl_widget.update()\n",
    "    def getimage(self):\n",
    "        #glutSwapBuffers()\n",
    "        self.opengl_widget.geti()\n",
    "    def rote(self):\n",
    "        matrix.rotate(model[self.qlistwidget.currentIndex().row()]['data'],45,45,45)\n",
    "        self.opengl_widget.update()\n",
    "    def translate(self):\n",
    "        matrix.translate(model[self.qlistwidget.currentIndex().row()]['data'],10,0,0)\n",
    "        self.opengl_widget.update()\n",
    "    def rotate_camera(self):\n",
    "        if self.isrotatecamera==False:\n",
    "            self.isrotatecamera=True\n",
    "            self.timer.start(10)\n",
    "        else:\n",
    "            self.isrotatecamera=False\n",
    "            self.timer.stop()\n",
    "    def ro(self):\n",
    "        self.opengl_widget.camera.Yaw(5)\n",
    "        self.opengl_widget.light.lightpos=[-self.opengl_widget.camera.forwardDir.X,-self.opengl_widget.camera.forwardDir.Y,-self.opengl_widget.camera.forwardDir.Z,0]\n",
    "        self.opengl_widget.update()\n",
    "app=QtWidgets.QApplication(sys.argv)\n",
    "mywindow=myform()\n",
    "mywindow.show()\n",
    "app.exec_()\n",
    "sys.exit()"
   ]
  },
  {
   "cell_type": "code",
   "execution_count": null,
   "metadata": {},
   "outputs": [],
   "source": []
  },
  {
   "cell_type": "code",
   "execution_count": null,
   "metadata": {},
   "outputs": [],
   "source": []
  },
  {
   "cell_type": "markdown",
   "metadata": {},
   "source": []
  },
  {
   "cell_type": "code",
   "execution_count": null,
   "metadata": {},
   "outputs": [],
   "source": []
  },
  {
   "cell_type": "code",
   "execution_count": null,
   "metadata": {},
   "outputs": [],
   "source": []
  },
  {
   "cell_type": "code",
   "execution_count": null,
   "metadata": {},
   "outputs": [],
   "source": []
  },
  {
   "cell_type": "code",
   "execution_count": null,
   "metadata": {},
   "outputs": [],
   "source": []
  },
  {
   "cell_type": "code",
   "execution_count": null,
   "metadata": {},
   "outputs": [],
   "source": []
  },
  {
   "cell_type": "code",
   "execution_count": null,
   "metadata": {},
   "outputs": [],
   "source": []
  },
  {
   "cell_type": "code",
   "execution_count": null,
   "metadata": {},
   "outputs": [],
   "source": []
  },
  {
   "cell_type": "code",
   "execution_count": null,
   "metadata": {},
   "outputs": [],
   "source": []
  },
  {
   "cell_type": "code",
   "execution_count": null,
   "metadata": {},
   "outputs": [],
   "source": []
  }
 ],
 "metadata": {
  "kernelspec": {
   "display_name": "Python 3",
   "language": "python",
   "name": "python3"
  },
  "language_info": {
   "codemirror_mode": {
    "name": "ipython",
    "version": 3
   },
   "file_extension": ".py",
   "mimetype": "text/x-python",
   "name": "python",
   "nbconvert_exporter": "python",
   "pygments_lexer": "ipython3",
   "version": "3.6.5"
  }
 },
 "nbformat": 4,
 "nbformat_minor": 2
}
