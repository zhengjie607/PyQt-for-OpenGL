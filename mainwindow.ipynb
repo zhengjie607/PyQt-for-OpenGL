{
 "cells": [
  {
   "cell_type": "code",
   "execution_count": null,
   "metadata": {
    "scrolled": false
   },
   "outputs": [
    {
     "name": "stdout",
     "output_type": "stream",
     "text": [
      "mesh is none\n",
      "mesh is none\n",
      "mesh is none\n",
      "b'>7\\x00\\x00'\n",
      "(14142,)\n"
     ]
    },
    {
     "ename": "TypeError",
     "evalue": "Don't know how to convert None to an array type",
     "output_type": "error",
     "traceback": [
      "\u001b[1;31m---------------------------------------------------------------------------\u001b[0m",
      "\u001b[1;31mTypeError\u001b[0m                                 Traceback (most recent call last)",
      "\u001b[1;32m<ipython-input-1-fc530a0a48e6>\u001b[0m in \u001b[0;36mpaintGL\u001b[1;34m(self)\u001b[0m\n\u001b[0;32m     39\u001b[0m         \u001b[1;32melse\u001b[0m\u001b[1;33m:\u001b[0m\u001b[1;33m\u001b[0m\u001b[0m\n\u001b[0;32m     40\u001b[0m             \u001b[1;31m#self.testdraw()\u001b[0m\u001b[1;33m\u001b[0m\u001b[1;33m\u001b[0m\u001b[0m\n\u001b[1;32m---> 41\u001b[1;33m             \u001b[0mself\u001b[0m\u001b[1;33m.\u001b[0m\u001b[0mVBO\u001b[0m\u001b[1;33m(\u001b[0m\u001b[1;33m)\u001b[0m\u001b[1;33m\u001b[0m\u001b[0m\n\u001b[0m\u001b[0;32m     42\u001b[0m     \u001b[1;32mdef\u001b[0m \u001b[0mtestdraw\u001b[0m\u001b[1;33m(\u001b[0m\u001b[0mself\u001b[0m\u001b[1;33m)\u001b[0m\u001b[1;33m:\u001b[0m\u001b[1;33m\u001b[0m\u001b[0m\n\u001b[0;32m     43\u001b[0m         \u001b[0mglBegin\u001b[0m\u001b[1;33m(\u001b[0m\u001b[0mGL_TRIANGLES\u001b[0m\u001b[1;33m)\u001b[0m\u001b[1;33m\u001b[0m\u001b[0m\n",
      "\u001b[1;32m<ipython-input-1-fc530a0a48e6>\u001b[0m in \u001b[0;36mVBO\u001b[1;34m(self)\u001b[0m\n\u001b[0;32m     58\u001b[0m         \u001b[0mglBindBuffer\u001b[0m\u001b[1;33m(\u001b[0m\u001b[0mGL_ARRAY_BUFFER\u001b[0m\u001b[1;33m,\u001b[0m\u001b[0mvertexBuffer\u001b[0m\u001b[1;33m[\u001b[0m\u001b[1;36m0\u001b[0m\u001b[1;33m]\u001b[0m \u001b[1;33m)\u001b[0m\u001b[1;33m\u001b[0m\u001b[0m\n\u001b[0;32m     59\u001b[0m \u001b[1;33m\u001b[0m\u001b[0m\n\u001b[1;32m---> 60\u001b[1;33m         \u001b[0mglBufferData\u001b[0m\u001b[1;33m(\u001b[0m\u001b[0mGL_ARRAY_BUFFER\u001b[0m\u001b[1;33m,\u001b[0m\u001b[0mdata_buffer\u001b[0m\u001b[1;33m,\u001b[0m\u001b[0mid\u001b[0m\u001b[1;33m(\u001b[0m\u001b[0mvertex_data\u001b[0m\u001b[1;33m)\u001b[0m\u001b[1;33m,\u001b[0m\u001b[0mGL_STATIC_DRAW\u001b[0m\u001b[1;33m)\u001b[0m\u001b[1;33m\u001b[0m\u001b[0m\n\u001b[0m\u001b[0;32m     61\u001b[0m \u001b[1;33m\u001b[0m\u001b[0m\n\u001b[0;32m     62\u001b[0m         \u001b[0mglEnableClientState\u001b[0m\u001b[1;33m(\u001b[0m\u001b[0mGL_VERTEX_ARRAY\u001b[0m\u001b[1;33m)\u001b[0m\u001b[1;33m\u001b[0m\u001b[0m\n",
      "\u001b[1;32mlatebind.pyx\u001b[0m in \u001b[0;36mOpenGL_accelerate.latebind.Curry.__call__ (src\\latebind.c:1201)\u001b[1;34m()\u001b[0m\n",
      "\u001b[1;32md:\\Users\\PC\\Anaconda3\\lib\\site-packages\\OpenGL\\GL\\VERSION\\GL_1_5.py\u001b[0m in \u001b[0;36mglBufferData\u001b[1;34m(baseOperation, target, size, data, usage)\u001b[0m\n\u001b[0;32m     84\u001b[0m         \u001b[0mdata\u001b[0m \u001b[1;33m=\u001b[0m \u001b[0msize\u001b[0m\u001b[1;33m\u001b[0m\u001b[0m\n\u001b[0;32m     85\u001b[0m         \u001b[0msize\u001b[0m \u001b[1;33m=\u001b[0m \u001b[1;32mNone\u001b[0m\u001b[1;33m\u001b[0m\u001b[0m\n\u001b[1;32m---> 86\u001b[1;33m     \u001b[0mdata\u001b[0m \u001b[1;33m=\u001b[0m \u001b[0mArrayDatatype\u001b[0m\u001b[1;33m.\u001b[0m\u001b[0masArray\u001b[0m\u001b[1;33m(\u001b[0m \u001b[0mdata\u001b[0m \u001b[1;33m)\u001b[0m\u001b[1;33m\u001b[0m\u001b[0m\n\u001b[0m\u001b[0;32m     87\u001b[0m     \u001b[1;32mif\u001b[0m \u001b[0msize\u001b[0m \u001b[1;32mis\u001b[0m \u001b[1;32mNone\u001b[0m\u001b[1;33m:\u001b[0m\u001b[1;33m\u001b[0m\u001b[0m\n\u001b[0;32m     88\u001b[0m         \u001b[0msize\u001b[0m \u001b[1;33m=\u001b[0m \u001b[0mArrayDatatype\u001b[0m\u001b[1;33m.\u001b[0m\u001b[0marrayByteCount\u001b[0m\u001b[1;33m(\u001b[0m \u001b[0mdata\u001b[0m \u001b[1;33m)\u001b[0m\u001b[1;33m\u001b[0m\u001b[0m\n",
      "\u001b[1;32marraydatatype.pyx\u001b[0m in \u001b[0;36mOpenGL_accelerate.arraydatatype.ArrayDatatype.asArray (src\\arraydatatype.c:4294)\u001b[1;34m()\u001b[0m\n",
      "\u001b[1;32md:\\Users\\PC\\Anaconda3\\lib\\site-packages\\OpenGL\\arrays\\numbers.py\u001b[0m in \u001b[0;36masArray\u001b[1;34m(self, value, typeCode)\u001b[0m\n\u001b[0;32m     57\u001b[0m             \u001b[1;32mreturn\u001b[0m \u001b[0mtargetType\u001b[0m\u001b[1;33m(\u001b[0m \u001b[0mvalue\u001b[0m \u001b[1;33m)\u001b[0m\u001b[1;33m\u001b[0m\u001b[0m\n\u001b[0;32m     58\u001b[0m         raise TypeError( \"\"\"Don't know how to convert %r to an array type\"\"\"%(\n\u001b[1;32m---> 59\u001b[1;33m             \u001b[0mtypeCode\u001b[0m\u001b[1;33m,\u001b[0m\u001b[1;33m\u001b[0m\u001b[0m\n\u001b[0m\u001b[0;32m     60\u001b[0m         ))\n\u001b[0;32m     61\u001b[0m     \u001b[1;32mdef\u001b[0m \u001b[0munitSize\u001b[0m\u001b[1;33m(\u001b[0m \u001b[0mself\u001b[0m\u001b[1;33m,\u001b[0m \u001b[0mvalue\u001b[0m\u001b[1;33m,\u001b[0m \u001b[0mtypeCode\u001b[0m\u001b[1;33m=\u001b[0m\u001b[1;32mNone\u001b[0m \u001b[1;33m)\u001b[0m\u001b[1;33m:\u001b[0m\u001b[1;33m\u001b[0m\u001b[0m\n",
      "\u001b[1;31mTypeError\u001b[0m: Don't know how to convert None to an array type"
     ]
    },
    {
     "ename": "TypeError",
     "evalue": "Don't know how to convert None to an array type",
     "output_type": "error",
     "traceback": [
      "\u001b[1;31m---------------------------------------------------------------------------\u001b[0m",
      "\u001b[1;31mTypeError\u001b[0m                                 Traceback (most recent call last)",
      "\u001b[1;32m<ipython-input-1-fc530a0a48e6>\u001b[0m in \u001b[0;36mpaintGL\u001b[1;34m(self)\u001b[0m\n\u001b[0;32m     39\u001b[0m         \u001b[1;32melse\u001b[0m\u001b[1;33m:\u001b[0m\u001b[1;33m\u001b[0m\u001b[0m\n\u001b[0;32m     40\u001b[0m             \u001b[1;31m#self.testdraw()\u001b[0m\u001b[1;33m\u001b[0m\u001b[1;33m\u001b[0m\u001b[0m\n\u001b[1;32m---> 41\u001b[1;33m             \u001b[0mself\u001b[0m\u001b[1;33m.\u001b[0m\u001b[0mVBO\u001b[0m\u001b[1;33m(\u001b[0m\u001b[1;33m)\u001b[0m\u001b[1;33m\u001b[0m\u001b[0m\n\u001b[0m\u001b[0;32m     42\u001b[0m     \u001b[1;32mdef\u001b[0m \u001b[0mtestdraw\u001b[0m\u001b[1;33m(\u001b[0m\u001b[0mself\u001b[0m\u001b[1;33m)\u001b[0m\u001b[1;33m:\u001b[0m\u001b[1;33m\u001b[0m\u001b[0m\n\u001b[0;32m     43\u001b[0m         \u001b[0mglBegin\u001b[0m\u001b[1;33m(\u001b[0m\u001b[0mGL_TRIANGLES\u001b[0m\u001b[1;33m)\u001b[0m\u001b[1;33m\u001b[0m\u001b[0m\n",
      "\u001b[1;32m<ipython-input-1-fc530a0a48e6>\u001b[0m in \u001b[0;36mVBO\u001b[1;34m(self)\u001b[0m\n\u001b[0;32m     58\u001b[0m         \u001b[0mglBindBuffer\u001b[0m\u001b[1;33m(\u001b[0m\u001b[0mGL_ARRAY_BUFFER\u001b[0m\u001b[1;33m,\u001b[0m\u001b[0mvertexBuffer\u001b[0m\u001b[1;33m[\u001b[0m\u001b[1;36m0\u001b[0m\u001b[1;33m]\u001b[0m \u001b[1;33m)\u001b[0m\u001b[1;33m\u001b[0m\u001b[0m\n\u001b[0;32m     59\u001b[0m \u001b[1;33m\u001b[0m\u001b[0m\n\u001b[1;32m---> 60\u001b[1;33m         \u001b[0mglBufferData\u001b[0m\u001b[1;33m(\u001b[0m\u001b[0mGL_ARRAY_BUFFER\u001b[0m\u001b[1;33m,\u001b[0m\u001b[0mdata_buffer\u001b[0m\u001b[1;33m,\u001b[0m\u001b[0mid\u001b[0m\u001b[1;33m(\u001b[0m\u001b[0mvertex_data\u001b[0m\u001b[1;33m)\u001b[0m\u001b[1;33m,\u001b[0m\u001b[0mGL_STATIC_DRAW\u001b[0m\u001b[1;33m)\u001b[0m\u001b[1;33m\u001b[0m\u001b[0m\n\u001b[0m\u001b[0;32m     61\u001b[0m \u001b[1;33m\u001b[0m\u001b[0m\n\u001b[0;32m     62\u001b[0m         \u001b[0mglEnableClientState\u001b[0m\u001b[1;33m(\u001b[0m\u001b[0mGL_VERTEX_ARRAY\u001b[0m\u001b[1;33m)\u001b[0m\u001b[1;33m\u001b[0m\u001b[0m\n",
      "\u001b[1;32mlatebind.pyx\u001b[0m in \u001b[0;36mOpenGL_accelerate.latebind.Curry.__call__ (src\\latebind.c:1201)\u001b[1;34m()\u001b[0m\n",
      "\u001b[1;32md:\\Users\\PC\\Anaconda3\\lib\\site-packages\\OpenGL\\GL\\VERSION\\GL_1_5.py\u001b[0m in \u001b[0;36mglBufferData\u001b[1;34m(baseOperation, target, size, data, usage)\u001b[0m\n\u001b[0;32m     84\u001b[0m         \u001b[0mdata\u001b[0m \u001b[1;33m=\u001b[0m \u001b[0msize\u001b[0m\u001b[1;33m\u001b[0m\u001b[0m\n\u001b[0;32m     85\u001b[0m         \u001b[0msize\u001b[0m \u001b[1;33m=\u001b[0m \u001b[1;32mNone\u001b[0m\u001b[1;33m\u001b[0m\u001b[0m\n\u001b[1;32m---> 86\u001b[1;33m     \u001b[0mdata\u001b[0m \u001b[1;33m=\u001b[0m \u001b[0mArrayDatatype\u001b[0m\u001b[1;33m.\u001b[0m\u001b[0masArray\u001b[0m\u001b[1;33m(\u001b[0m \u001b[0mdata\u001b[0m \u001b[1;33m)\u001b[0m\u001b[1;33m\u001b[0m\u001b[0m\n\u001b[0m\u001b[0;32m     87\u001b[0m     \u001b[1;32mif\u001b[0m \u001b[0msize\u001b[0m \u001b[1;32mis\u001b[0m \u001b[1;32mNone\u001b[0m\u001b[1;33m:\u001b[0m\u001b[1;33m\u001b[0m\u001b[0m\n\u001b[0;32m     88\u001b[0m         \u001b[0msize\u001b[0m \u001b[1;33m=\u001b[0m \u001b[0mArrayDatatype\u001b[0m\u001b[1;33m.\u001b[0m\u001b[0marrayByteCount\u001b[0m\u001b[1;33m(\u001b[0m \u001b[0mdata\u001b[0m \u001b[1;33m)\u001b[0m\u001b[1;33m\u001b[0m\u001b[0m\n",
      "\u001b[1;32marraydatatype.pyx\u001b[0m in \u001b[0;36mOpenGL_accelerate.arraydatatype.ArrayDatatype.asArray (src\\arraydatatype.c:4294)\u001b[1;34m()\u001b[0m\n",
      "\u001b[1;32md:\\Users\\PC\\Anaconda3\\lib\\site-packages\\OpenGL\\arrays\\numbers.py\u001b[0m in \u001b[0;36masArray\u001b[1;34m(self, value, typeCode)\u001b[0m\n\u001b[0;32m     57\u001b[0m             \u001b[1;32mreturn\u001b[0m \u001b[0mtargetType\u001b[0m\u001b[1;33m(\u001b[0m \u001b[0mvalue\u001b[0m \u001b[1;33m)\u001b[0m\u001b[1;33m\u001b[0m\u001b[0m\n\u001b[0;32m     58\u001b[0m         raise TypeError( \"\"\"Don't know how to convert %r to an array type\"\"\"%(\n\u001b[1;32m---> 59\u001b[1;33m             \u001b[0mtypeCode\u001b[0m\u001b[1;33m,\u001b[0m\u001b[1;33m\u001b[0m\u001b[0m\n\u001b[0m\u001b[0;32m     60\u001b[0m         ))\n\u001b[0;32m     61\u001b[0m     \u001b[1;32mdef\u001b[0m \u001b[0munitSize\u001b[0m\u001b[1;33m(\u001b[0m \u001b[0mself\u001b[0m\u001b[1;33m,\u001b[0m \u001b[0mvalue\u001b[0m\u001b[1;33m,\u001b[0m \u001b[0mtypeCode\u001b[0m\u001b[1;33m=\u001b[0m\u001b[1;32mNone\u001b[0m \u001b[1;33m)\u001b[0m\u001b[1;33m:\u001b[0m\u001b[1;33m\u001b[0m\u001b[0m\n",
      "\u001b[1;31mTypeError\u001b[0m: Don't know how to convert None to an array type"
     ]
    },
    {
     "ename": "TypeError",
     "evalue": "Don't know how to convert None to an array type",
     "output_type": "error",
     "traceback": [
      "\u001b[1;31m---------------------------------------------------------------------------\u001b[0m",
      "\u001b[1;31mTypeError\u001b[0m                                 Traceback (most recent call last)",
      "\u001b[1;32m<ipython-input-1-fc530a0a48e6>\u001b[0m in \u001b[0;36mpaintGL\u001b[1;34m(self)\u001b[0m\n\u001b[0;32m     39\u001b[0m         \u001b[1;32melse\u001b[0m\u001b[1;33m:\u001b[0m\u001b[1;33m\u001b[0m\u001b[0m\n\u001b[0;32m     40\u001b[0m             \u001b[1;31m#self.testdraw()\u001b[0m\u001b[1;33m\u001b[0m\u001b[1;33m\u001b[0m\u001b[0m\n\u001b[1;32m---> 41\u001b[1;33m             \u001b[0mself\u001b[0m\u001b[1;33m.\u001b[0m\u001b[0mVBO\u001b[0m\u001b[1;33m(\u001b[0m\u001b[1;33m)\u001b[0m\u001b[1;33m\u001b[0m\u001b[0m\n\u001b[0m\u001b[0;32m     42\u001b[0m     \u001b[1;32mdef\u001b[0m \u001b[0mtestdraw\u001b[0m\u001b[1;33m(\u001b[0m\u001b[0mself\u001b[0m\u001b[1;33m)\u001b[0m\u001b[1;33m:\u001b[0m\u001b[1;33m\u001b[0m\u001b[0m\n\u001b[0;32m     43\u001b[0m         \u001b[0mglBegin\u001b[0m\u001b[1;33m(\u001b[0m\u001b[0mGL_TRIANGLES\u001b[0m\u001b[1;33m)\u001b[0m\u001b[1;33m\u001b[0m\u001b[0m\n",
      "\u001b[1;32m<ipython-input-1-fc530a0a48e6>\u001b[0m in \u001b[0;36mVBO\u001b[1;34m(self)\u001b[0m\n\u001b[0;32m     58\u001b[0m         \u001b[0mglBindBuffer\u001b[0m\u001b[1;33m(\u001b[0m\u001b[0mGL_ARRAY_BUFFER\u001b[0m\u001b[1;33m,\u001b[0m\u001b[0mvertexBuffer\u001b[0m\u001b[1;33m[\u001b[0m\u001b[1;36m0\u001b[0m\u001b[1;33m]\u001b[0m \u001b[1;33m)\u001b[0m\u001b[1;33m\u001b[0m\u001b[0m\n\u001b[0;32m     59\u001b[0m \u001b[1;33m\u001b[0m\u001b[0m\n\u001b[1;32m---> 60\u001b[1;33m         \u001b[0mglBufferData\u001b[0m\u001b[1;33m(\u001b[0m\u001b[0mGL_ARRAY_BUFFER\u001b[0m\u001b[1;33m,\u001b[0m\u001b[0mdata_buffer\u001b[0m\u001b[1;33m,\u001b[0m\u001b[0mid\u001b[0m\u001b[1;33m(\u001b[0m\u001b[0mvertex_data\u001b[0m\u001b[1;33m)\u001b[0m\u001b[1;33m,\u001b[0m\u001b[0mGL_STATIC_DRAW\u001b[0m\u001b[1;33m)\u001b[0m\u001b[1;33m\u001b[0m\u001b[0m\n\u001b[0m\u001b[0;32m     61\u001b[0m \u001b[1;33m\u001b[0m\u001b[0m\n\u001b[0;32m     62\u001b[0m         \u001b[0mglEnableClientState\u001b[0m\u001b[1;33m(\u001b[0m\u001b[0mGL_VERTEX_ARRAY\u001b[0m\u001b[1;33m)\u001b[0m\u001b[1;33m\u001b[0m\u001b[0m\n",
      "\u001b[1;32mlatebind.pyx\u001b[0m in \u001b[0;36mOpenGL_accelerate.latebind.Curry.__call__ (src\\latebind.c:1201)\u001b[1;34m()\u001b[0m\n",
      "\u001b[1;32md:\\Users\\PC\\Anaconda3\\lib\\site-packages\\OpenGL\\GL\\VERSION\\GL_1_5.py\u001b[0m in \u001b[0;36mglBufferData\u001b[1;34m(baseOperation, target, size, data, usage)\u001b[0m\n\u001b[0;32m     84\u001b[0m         \u001b[0mdata\u001b[0m \u001b[1;33m=\u001b[0m \u001b[0msize\u001b[0m\u001b[1;33m\u001b[0m\u001b[0m\n\u001b[0;32m     85\u001b[0m         \u001b[0msize\u001b[0m \u001b[1;33m=\u001b[0m \u001b[1;32mNone\u001b[0m\u001b[1;33m\u001b[0m\u001b[0m\n\u001b[1;32m---> 86\u001b[1;33m     \u001b[0mdata\u001b[0m \u001b[1;33m=\u001b[0m \u001b[0mArrayDatatype\u001b[0m\u001b[1;33m.\u001b[0m\u001b[0masArray\u001b[0m\u001b[1;33m(\u001b[0m \u001b[0mdata\u001b[0m \u001b[1;33m)\u001b[0m\u001b[1;33m\u001b[0m\u001b[0m\n\u001b[0m\u001b[0;32m     87\u001b[0m     \u001b[1;32mif\u001b[0m \u001b[0msize\u001b[0m \u001b[1;32mis\u001b[0m \u001b[1;32mNone\u001b[0m\u001b[1;33m:\u001b[0m\u001b[1;33m\u001b[0m\u001b[0m\n\u001b[0;32m     88\u001b[0m         \u001b[0msize\u001b[0m \u001b[1;33m=\u001b[0m \u001b[0mArrayDatatype\u001b[0m\u001b[1;33m.\u001b[0m\u001b[0marrayByteCount\u001b[0m\u001b[1;33m(\u001b[0m \u001b[0mdata\u001b[0m \u001b[1;33m)\u001b[0m\u001b[1;33m\u001b[0m\u001b[0m\n",
      "\u001b[1;32marraydatatype.pyx\u001b[0m in \u001b[0;36mOpenGL_accelerate.arraydatatype.ArrayDatatype.asArray (src\\arraydatatype.c:4294)\u001b[1;34m()\u001b[0m\n",
      "\u001b[1;32md:\\Users\\PC\\Anaconda3\\lib\\site-packages\\OpenGL\\arrays\\numbers.py\u001b[0m in \u001b[0;36masArray\u001b[1;34m(self, value, typeCode)\u001b[0m\n\u001b[0;32m     57\u001b[0m             \u001b[1;32mreturn\u001b[0m \u001b[0mtargetType\u001b[0m\u001b[1;33m(\u001b[0m \u001b[0mvalue\u001b[0m \u001b[1;33m)\u001b[0m\u001b[1;33m\u001b[0m\u001b[0m\n\u001b[0;32m     58\u001b[0m         raise TypeError( \"\"\"Don't know how to convert %r to an array type\"\"\"%(\n\u001b[1;32m---> 59\u001b[1;33m             \u001b[0mtypeCode\u001b[0m\u001b[1;33m,\u001b[0m\u001b[1;33m\u001b[0m\u001b[0m\n\u001b[0m\u001b[0;32m     60\u001b[0m         ))\n\u001b[0;32m     61\u001b[0m     \u001b[1;32mdef\u001b[0m \u001b[0munitSize\u001b[0m\u001b[1;33m(\u001b[0m \u001b[0mself\u001b[0m\u001b[1;33m,\u001b[0m \u001b[0mvalue\u001b[0m\u001b[1;33m,\u001b[0m \u001b[0mtypeCode\u001b[0m\u001b[1;33m=\u001b[0m\u001b[1;32mNone\u001b[0m \u001b[1;33m)\u001b[0m\u001b[1;33m:\u001b[0m\u001b[1;33m\u001b[0m\u001b[0m\n",
      "\u001b[1;31mTypeError\u001b[0m: Don't know how to convert None to an array type"
     ]
    },
    {
     "ename": "TypeError",
     "evalue": "Don't know how to convert None to an array type",
     "output_type": "error",
     "traceback": [
      "\u001b[1;31m---------------------------------------------------------------------------\u001b[0m",
      "\u001b[1;31mTypeError\u001b[0m                                 Traceback (most recent call last)",
      "\u001b[1;32m<ipython-input-1-fc530a0a48e6>\u001b[0m in \u001b[0;36mpaintGL\u001b[1;34m(self)\u001b[0m\n\u001b[0;32m     39\u001b[0m         \u001b[1;32melse\u001b[0m\u001b[1;33m:\u001b[0m\u001b[1;33m\u001b[0m\u001b[0m\n\u001b[0;32m     40\u001b[0m             \u001b[1;31m#self.testdraw()\u001b[0m\u001b[1;33m\u001b[0m\u001b[1;33m\u001b[0m\u001b[0m\n\u001b[1;32m---> 41\u001b[1;33m             \u001b[0mself\u001b[0m\u001b[1;33m.\u001b[0m\u001b[0mVBO\u001b[0m\u001b[1;33m(\u001b[0m\u001b[1;33m)\u001b[0m\u001b[1;33m\u001b[0m\u001b[0m\n\u001b[0m\u001b[0;32m     42\u001b[0m     \u001b[1;32mdef\u001b[0m \u001b[0mtestdraw\u001b[0m\u001b[1;33m(\u001b[0m\u001b[0mself\u001b[0m\u001b[1;33m)\u001b[0m\u001b[1;33m:\u001b[0m\u001b[1;33m\u001b[0m\u001b[0m\n\u001b[0;32m     43\u001b[0m         \u001b[0mglBegin\u001b[0m\u001b[1;33m(\u001b[0m\u001b[0mGL_TRIANGLES\u001b[0m\u001b[1;33m)\u001b[0m\u001b[1;33m\u001b[0m\u001b[0m\n",
      "\u001b[1;32m<ipython-input-1-fc530a0a48e6>\u001b[0m in \u001b[0;36mVBO\u001b[1;34m(self)\u001b[0m\n\u001b[0;32m     58\u001b[0m         \u001b[0mglBindBuffer\u001b[0m\u001b[1;33m(\u001b[0m\u001b[0mGL_ARRAY_BUFFER\u001b[0m\u001b[1;33m,\u001b[0m\u001b[0mvertexBuffer\u001b[0m\u001b[1;33m[\u001b[0m\u001b[1;36m0\u001b[0m\u001b[1;33m]\u001b[0m \u001b[1;33m)\u001b[0m\u001b[1;33m\u001b[0m\u001b[0m\n\u001b[0;32m     59\u001b[0m \u001b[1;33m\u001b[0m\u001b[0m\n\u001b[1;32m---> 60\u001b[1;33m         \u001b[0mglBufferData\u001b[0m\u001b[1;33m(\u001b[0m\u001b[0mGL_ARRAY_BUFFER\u001b[0m\u001b[1;33m,\u001b[0m\u001b[0mdata_buffer\u001b[0m\u001b[1;33m,\u001b[0m\u001b[0mid\u001b[0m\u001b[1;33m(\u001b[0m\u001b[0mvertex_data\u001b[0m\u001b[1;33m)\u001b[0m\u001b[1;33m,\u001b[0m\u001b[0mGL_STATIC_DRAW\u001b[0m\u001b[1;33m)\u001b[0m\u001b[1;33m\u001b[0m\u001b[0m\n\u001b[0m\u001b[0;32m     61\u001b[0m \u001b[1;33m\u001b[0m\u001b[0m\n\u001b[0;32m     62\u001b[0m         \u001b[0mglEnableClientState\u001b[0m\u001b[1;33m(\u001b[0m\u001b[0mGL_VERTEX_ARRAY\u001b[0m\u001b[1;33m)\u001b[0m\u001b[1;33m\u001b[0m\u001b[0m\n",
      "\u001b[1;32mlatebind.pyx\u001b[0m in \u001b[0;36mOpenGL_accelerate.latebind.Curry.__call__ (src\\latebind.c:1201)\u001b[1;34m()\u001b[0m\n",
      "\u001b[1;32md:\\Users\\PC\\Anaconda3\\lib\\site-packages\\OpenGL\\GL\\VERSION\\GL_1_5.py\u001b[0m in \u001b[0;36mglBufferData\u001b[1;34m(baseOperation, target, size, data, usage)\u001b[0m\n\u001b[0;32m     84\u001b[0m         \u001b[0mdata\u001b[0m \u001b[1;33m=\u001b[0m \u001b[0msize\u001b[0m\u001b[1;33m\u001b[0m\u001b[0m\n\u001b[0;32m     85\u001b[0m         \u001b[0msize\u001b[0m \u001b[1;33m=\u001b[0m \u001b[1;32mNone\u001b[0m\u001b[1;33m\u001b[0m\u001b[0m\n\u001b[1;32m---> 86\u001b[1;33m     \u001b[0mdata\u001b[0m \u001b[1;33m=\u001b[0m \u001b[0mArrayDatatype\u001b[0m\u001b[1;33m.\u001b[0m\u001b[0masArray\u001b[0m\u001b[1;33m(\u001b[0m \u001b[0mdata\u001b[0m \u001b[1;33m)\u001b[0m\u001b[1;33m\u001b[0m\u001b[0m\n\u001b[0m\u001b[0;32m     87\u001b[0m     \u001b[1;32mif\u001b[0m \u001b[0msize\u001b[0m \u001b[1;32mis\u001b[0m \u001b[1;32mNone\u001b[0m\u001b[1;33m:\u001b[0m\u001b[1;33m\u001b[0m\u001b[0m\n\u001b[0;32m     88\u001b[0m         \u001b[0msize\u001b[0m \u001b[1;33m=\u001b[0m \u001b[0mArrayDatatype\u001b[0m\u001b[1;33m.\u001b[0m\u001b[0marrayByteCount\u001b[0m\u001b[1;33m(\u001b[0m \u001b[0mdata\u001b[0m \u001b[1;33m)\u001b[0m\u001b[1;33m\u001b[0m\u001b[0m\n",
      "\u001b[1;32marraydatatype.pyx\u001b[0m in \u001b[0;36mOpenGL_accelerate.arraydatatype.ArrayDatatype.asArray (src\\arraydatatype.c:4294)\u001b[1;34m()\u001b[0m\n",
      "\u001b[1;32md:\\Users\\PC\\Anaconda3\\lib\\site-packages\\OpenGL\\arrays\\numbers.py\u001b[0m in \u001b[0;36masArray\u001b[1;34m(self, value, typeCode)\u001b[0m\n\u001b[0;32m     57\u001b[0m             \u001b[1;32mreturn\u001b[0m \u001b[0mtargetType\u001b[0m\u001b[1;33m(\u001b[0m \u001b[0mvalue\u001b[0m \u001b[1;33m)\u001b[0m\u001b[1;33m\u001b[0m\u001b[0m\n\u001b[0;32m     58\u001b[0m         raise TypeError( \"\"\"Don't know how to convert %r to an array type\"\"\"%(\n\u001b[1;32m---> 59\u001b[1;33m             \u001b[0mtypeCode\u001b[0m\u001b[1;33m,\u001b[0m\u001b[1;33m\u001b[0m\u001b[0m\n\u001b[0m\u001b[0;32m     60\u001b[0m         ))\n\u001b[0;32m     61\u001b[0m     \u001b[1;32mdef\u001b[0m \u001b[0munitSize\u001b[0m\u001b[1;33m(\u001b[0m \u001b[0mself\u001b[0m\u001b[1;33m,\u001b[0m \u001b[0mvalue\u001b[0m\u001b[1;33m,\u001b[0m \u001b[0mtypeCode\u001b[0m\u001b[1;33m=\u001b[0m\u001b[1;32mNone\u001b[0m \u001b[1;33m)\u001b[0m\u001b[1;33m:\u001b[0m\u001b[1;33m\u001b[0m\u001b[0m\n",
      "\u001b[1;31mTypeError\u001b[0m: Don't know how to convert None to an array type"
     ]
    },
    {
     "name": "stdout",
     "output_type": "stream",
     "text": [
      "File type is not supported.\n"
     ]
    }
   ],
   "source": [
    "from PyQt5.QtWidgets import QOpenGLWidget\n",
    "from PyQt5 import QtCore, QtGui, QtWidgets\n",
    "from PyQt5.QtCore import Qt,QPoint,QLineF\n",
    "from OpenGL.GL import *\n",
    "from OpenGL.arrays import vbo\n",
    "from OpenGL.GLU import *\n",
    "from OpenGL.GLUT import *\n",
    "from numpy import *\n",
    "import math\n",
    "import form\n",
    "from form import Ui_Form\n",
    "from Camera import camera\n",
    "from Vector3f import *\n",
    "from Light import Light\n",
    "from Optimizermaster.FileHandler import FileHandler\n",
    "import sys\n",
    "from ctypes import sizeof, c_float, c_void_p, c_uint\n",
    "file=None#导入文件\n",
    "vertex_data=[]\n",
    "float_size = sizeof(c_float)\n",
    "record_len       =         0 * float_size\n",
    "vertex_offset    = c_void_p(0 * float_size)\n",
    "class GLWidget(QOpenGLWidget):\n",
    "    def __init__(self, *args, **kwargs):\n",
    "        super(GLWidget, self).__init__(*args, **kwargs)\n",
    "        self.setGeometry(QtCore.QRect(10, 10,700, 700))#窗口位置和大小\n",
    "        self.isMove=False\n",
    "        self.isRotate=False\n",
    "    def initializeGL(self):\n",
    "        glClear(GL_COLOR_BUFFER_BIT | GL_DEPTH_BUFFER_BIT);\n",
    "        self.camera=camera()\n",
    "        self.light=Light()\n",
    "    def paintGL(self):\n",
    "        self.camera.Update()\n",
    "        self.light.Update()\n",
    "        #glutWireTeapot(0.5)\n",
    "        if file==None:\n",
    "            print('mesh is none')\n",
    "        else:\n",
    "            #self.testdraw()\n",
    "            self.VBO()\n",
    "    def testdraw(self):\n",
    "        glBegin(GL_TRIANGLES)\n",
    "        i=0\n",
    "        for mesh in file[0]['mesh']:\n",
    "            if i%3==0:\n",
    "                glNormal3f(file[0]['normal'][i][0],file[0]['normal'][i][1],file[0]['normal'][i][2])\n",
    "            glVertex3f(mesh[0],mesh[1],mesh[2])\n",
    "            i+=1\n",
    "            '''glVertex3f(mesh[1][0],mesh[1][1],mesh[1][2])\n",
    "            glVertex3f(mesh[2][0],mesh[2][1],mesh[2][2])'''\n",
    "        glEnd()\n",
    "    def VBO(self):\n",
    "        \n",
    "        vertexBuffer=[0]\n",
    "        data_buffer = (c_float*len(vertex_data))(*vertex_data)\n",
    "        glGenBuffers(1,vertexBuffer)\n",
    "        glBindBuffer(GL_ARRAY_BUFFER,vertexBuffer[0] )\n",
    "        \n",
    "        glBufferData(GL_ARRAY_BUFFER,data_buffer,id(vertex_data),GL_STATIC_DRAW)\n",
    "        \n",
    "        glEnableClientState(GL_VERTEX_ARRAY)\n",
    "        glBindBuffer(GL_ARRAY_BUFFER, vertexBuffer[0])\n",
    "        glVertexPointer(3, GL_FLOAT, record_len, vertex_offset)\n",
    "        glDrawArrays(GL_TRIANGLES,0,len(vertex_data))\n",
    "        glDisableClientState(GL_VERTEX_ARRAY)\n",
    "        \n",
    "        glDeleteBuffers(1,vertexBuffer)\n",
    "        \n",
    "    def mousePressEvent(self,event):\n",
    "        self.myMousePosition=event.pos()\n",
    "        if event.button()==Qt.LeftButton:\n",
    "            self.isMove=True\n",
    "        if event.button()==Qt.RightButton:\n",
    "            self.isRotate=True\n",
    "        #self.update()\n",
    "    def wheelEvent(self,event):\n",
    "        if event.angleDelta().y()>0:\n",
    "            print('add')\n",
    "        if event.angleDelta().y()<0:\n",
    "            print('sub')\n",
    "    def mouseReleaseEvent(self,event):\n",
    "        if event.button()==Qt.LeftButton:\n",
    "            self.isMove=False\n",
    "        if event.button()==Qt.RightButton:\n",
    "            self.isRotate=False\n",
    "        #print('mPos:(X:'+str(self.camera.mPos.X)+',Y:'+str(self.camera.mPos.Y)+',Z:'+str(self.camera.mPos.Z)+')')\n",
    "        #print('mViewCenter:(X:'+str(self.camera.mViewCenter.X)+',Y:'+str(self.camera.mViewCenter.Y)+',Z:'+str(self.camera.mViewCenter.Z)+')')\n",
    "    def mouseMoveEvent(self,event):\n",
    "        if self.isMove:\n",
    "            moveX=event.pos().x()-self.myMousePosition.x()\n",
    "            moveY=event.pos().y()-self.myMousePosition.y()\n",
    "            self.camera.Move(moveX,moveY)\n",
    "            self.myMousePosition=event.pos()\n",
    "        if self.isRotate:\n",
    "            moveX=event.pos().x()-self.myMousePosition.x()\n",
    "            moveY=event.pos().y()-self.myMousePosition.y()\n",
    "            self.camera.Yaw(-moveX)\n",
    "            self.camera.Pitch(-moveY)\n",
    "            self.myMousePosition=event.pos()\n",
    "        self.update()\n",
    "\n",
    "class myform(QtWidgets.QWidget,Ui_Form):\n",
    "    \n",
    "    def __init__(self):\n",
    "        super(myform,self).__init__()\n",
    "        self.setupUi(self)\n",
    "        self.graphicsView1=GLWidget(self)\n",
    "        self.btn=QtWidgets.QPushButton(self)\n",
    "        self.btn.setGeometry(QtCore.QRect(710, 40, 75, 23))\n",
    "        self.btn.setObjectName(\"pushButton\")\n",
    "        self.btn.setText(\"打开文件\")\n",
    "        self.btn.clicked.connect(self.getfile)\n",
    "    def getfile(self):\n",
    "        global file\n",
    "        dlg=QtWidgets.QFileDialog()\n",
    "        f=dlg.getOpenFileName(self,'Open File','.\\\\Optimizermaster','STL File (*.stl)')\n",
    "        file=FileHandler().load_mesh(f[0])\n",
    "        for mesh in file[0]['mesh']:\n",
    "            vertex_data.append(mesh[0])\n",
    "            vertex_data.append(mesh[1])\n",
    "            vertex_data.append(mesh[2])\n",
    "app=QtWidgets.QApplication(sys.argv)\n",
    "mywindow=myform()\n",
    "mywindow.show()\n",
    "app.exec_()\n",
    "sys.exit()"
   ]
  },
  {
   "cell_type": "code",
   "execution_count": null,
   "metadata": {},
   "outputs": [],
   "source": [
    "dir(QtWidgets.QWidget)"
   ]
  },
  {
   "cell_type": "code",
   "execution_count": null,
   "metadata": {},
   "outputs": [],
   "source": [
    "help(QOpenGLWidget.resizeGL)"
   ]
  },
  {
   "cell_type": "code",
   "execution_count": null,
   "metadata": {},
   "outputs": [],
   "source": [
    "print(cos(60*math.pi/180))"
   ]
  },
  {
   "cell_type": "code",
   "execution_count": null,
   "metadata": {},
   "outputs": [],
   "source": [
    "i=10.0\n",
    "print(sys.getsizeof(i))\n",
    "print(type(i))"
   ]
  },
  {
   "cell_type": "code",
   "execution_count": null,
   "metadata": {},
   "outputs": [],
   "source": [
    "inn=[]\n",
    "dir(inn)"
   ]
  },
  {
   "cell_type": "code",
   "execution_count": null,
   "metadata": {},
   "outputs": [],
   "source": []
  }
 ],
 "metadata": {
  "kernelspec": {
   "display_name": "Python 3",
   "language": "python",
   "name": "python3"
  },
  "language_info": {
   "codemirror_mode": {
    "name": "ipython",
    "version": 3
   },
   "file_extension": ".py",
   "mimetype": "text/x-python",
   "name": "python",
   "nbconvert_exporter": "python",
   "pygments_lexer": "ipython3",
   "version": "3.6.5"
  }
 },
 "nbformat": 4,
 "nbformat_minor": 2
}
