{
 "cells": [
  {
   "cell_type": "code",
   "execution_count": 1,
   "metadata": {
    "scrolled": false
   },
   "outputs": [
    {
     "name": "stdout",
     "output_type": "stream",
     "text": [
      "mesh is none\n",
      "mesh is none\n",
      "mesh is none\n",
      "b'>7\\x00\\x00'\n",
      "(14142,)\n",
      "42426\n"
     ]
    },
    {
     "ename": "SystemExit",
     "evalue": "",
     "output_type": "error",
     "traceback": [
      "An exception has occurred, use %tb to see the full traceback.\n",
      "\u001b[0;31mSystemExit\u001b[0m\n"
     ]
    },
    {
     "name": "stderr",
     "output_type": "stream",
     "text": [
      "/anaconda3/lib/python3.7/site-packages/IPython/core/interactiveshell.py:3275: UserWarning: To exit: use 'exit', 'quit', or Ctrl-D.\n",
      "  warn(\"To exit: use 'exit', 'quit', or Ctrl-D.\", stacklevel=1)\n"
     ]
    }
   ],
   "source": [
    "from PyQt5.QtWidgets import QOpenGLWidget\n",
    "from PyQt5 import QtCore, QtGui, QtWidgets\n",
    "from PyQt5.QtCore import Qt,QPoint,QLineF\n",
    "from OpenGL.GL import *\n",
    "from OpenGL.arrays import vbo\n",
    "from OpenGL.GLU import *\n",
    "from OpenGL.GLUT import *\n",
    "from numpy import *\n",
    "import math\n",
    "import form\n",
    "from form import Ui_Form\n",
    "from Camera import camera\n",
    "from Vector3f import *\n",
    "from Light import Light,Materials\n",
    "from Optimizermaster.FileHandler import FileHandler\n",
    "import sys\n",
    "from ctypes import sizeof, c_float, c_void_p, c_uint\n",
    "data=array([],'f')#导入文件\n",
    "normal=array([],'f')\n",
    "float_size = sizeof(c_float)\n",
    "record_len       = 12 * float_size\n",
    "vertex_offset    = c_void_p(0 * float_size)\n",
    "class GLWidget(QOpenGLWidget):\n",
    "    def __init__(self, *args, **kwargs):\n",
    "        super(GLWidget, self).__init__(*args, **kwargs)\n",
    "        self.setGeometry(QtCore.QRect(10, 10,700, 700))#窗口位置和大小\n",
    "        self.isMove=False\n",
    "        self.isRotate=False\n",
    "    def initializeGL(self):\n",
    "        glClear(GL_COLOR_BUFFER_BIT | GL_DEPTH_BUFFER_BIT);\n",
    "        \n",
    "        self.camera=camera()\n",
    "        self.light=Light(Materials['violet'])\n",
    "    def paintGL(self):\n",
    "        self.camera.Update()\n",
    "        self.light.Update()\n",
    "        #glutWireTeapot(0.5)\n",
    "        if data.any()==False:\n",
    "            print('mesh is none')\n",
    "        else:\n",
    "            #pass\n",
    "            #self.testdraw()\n",
    "            self.VBO()\n",
    "    def testdraw(self):\n",
    "        glBegin(GL_TRIANGLES)\n",
    "        i=0\n",
    "        for i in range(0,len(data),3):\n",
    "            glNormal3f(normal[i],normal[i+1],normal[i+2])\n",
    "            glVertex3f(data[i],data[i+1],data[i+2])\n",
    "        glEnd()\n",
    "    def VBO(self):\n",
    "        \n",
    "        self.vb=vbo.VBO(data)\n",
    "        self.vb.bind()\n",
    "        glEnableClientState(GL_NORMAL_ARRAY)\n",
    "        glEnableClientState(GL_VERTEX_ARRAY)\n",
    "        glNormalPointer(GL_FLOAT, 24, self.vb+12)\n",
    "        glVertexPointer(3, GL_FLOAT, 24, self.vb )\n",
    "        glDrawArrays(GL_TRIANGLES, 0, len(data))\n",
    "        self.vb.unbind()\n",
    "        glDisableClientState(GL_NORMAL_ARRAY)\n",
    "        glDisableClientState(GL_VERTEX_ARRAY)\n",
    "        \n",
    "    def mousePressEvent(self,event):\n",
    "        self.myMousePosition=event.pos()\n",
    "        if event.button()==Qt.LeftButton:\n",
    "            self.isMove=True\n",
    "        if event.button()==Qt.RightButton:\n",
    "            self.isRotate=True\n",
    "        #self.update()\n",
    "    def wheelEvent(self,event):\n",
    "        if event.angleDelta().y()>0:\n",
    "            self.camera.right*=0.95\n",
    "            self.camera.top*=0.95\n",
    "        if event.angleDelta().y()<0:\n",
    "            self.camera.right/=0.95\n",
    "            self.camera.top/=0.95\n",
    "        self.update()\n",
    "    def mouseReleaseEvent(self,event):\n",
    "        if event.button()==Qt.LeftButton:\n",
    "            self.isMove=False\n",
    "        if event.button()==Qt.RightButton:\n",
    "            self.isRotate=False\n",
    "    def mouseMoveEvent(self,event):\n",
    "        if self.isMove:\n",
    "            moveX=event.pos().x()-self.myMousePosition.x()\n",
    "            moveY=event.pos().y()-self.myMousePosition.y()\n",
    "            self.camera.Move(moveX,moveY)\n",
    "            self.myMousePosition=event.pos()\n",
    "        if self.isRotate:\n",
    "            moveX=event.pos().x()-self.myMousePosition.x()\n",
    "            moveY=event.pos().y()-self.myMousePosition.y()\n",
    "            self.camera.Yaw(-moveX)\n",
    "            self.camera.Pitch(-moveY)\n",
    "            self.light.lightpos=[-self.camera.forwardDir.X,-self.camera.forwardDir.Y,-self.camera.forwardDir.Z,0]\n",
    "            self.myMousePosition=event.pos()\n",
    "        self.update()\n",
    "\n",
    "class myform(QtWidgets.QWidget,Ui_Form):\n",
    "    \n",
    "    def __init__(self):\n",
    "        super(myform,self).__init__()\n",
    "        self.setupUi(self)\n",
    "        self.graphicsView1=GLWidget(self)\n",
    "        self.btn=QtWidgets.QPushButton(self)\n",
    "        self.btn.setGeometry(QtCore.QRect(710, 40, 75, 23))\n",
    "        self.btn.setObjectName(\"pushButton\")\n",
    "        self.btn.setText(\"打开文件\")\n",
    "        self.btn.clicked.connect(self.getfile)\n",
    "        self.vertex=array([],'f')\n",
    "    def getfile(self):\n",
    "        global data\n",
    "        dlg=QtWidgets.QFileDialog()\n",
    "        f=dlg.getOpenFileName(self,'Open File','.','STL File (*.stl)')\n",
    "        file=FileHandler().load_mesh(f[0])#f[0]是路径，f[1]是类型\n",
    "        data=array(file['mesh'],'f')\n",
    "        print(len(data))\n",
    "        self.graphicsView1.update()\n",
    "    def flatten(self,*lll):\n",
    "        return [u for ll in lll for l in ll for u in l]\n",
    "app=QtWidgets.QApplication(sys.argv)\n",
    "mywindow=myform()\n",
    "mywindow.show()\n",
    "app.exec_()\n",
    "sys.exit()"
   ]
  },
  {
   "cell_type": "code",
   "execution_count": null,
   "metadata": {},
   "outputs": [],
   "source": [
    "materials={\n",
    "    'tong':{\n",
    "        'a':1,\n",
    "        'b':2\n",
    "    },\n",
    "    'tie':{\n",
    "        'a':1,\n",
    "        'b':2\n",
    "    }\n",
    "    \n",
    "}"
   ]
  },
  {
   "cell_type": "code",
   "execution_count": null,
   "metadata": {},
   "outputs": [],
   "source": [
    "print(materials['tong']['a'])"
   ]
  },
  {
   "cell_type": "markdown",
   "metadata": {},
   "source": []
  },
  {
   "cell_type": "code",
   "execution_count": null,
   "metadata": {},
   "outputs": [],
   "source": []
  },
  {
   "cell_type": "code",
   "execution_count": null,
   "metadata": {},
   "outputs": [],
   "source": []
  },
  {
   "cell_type": "code",
   "execution_count": null,
   "metadata": {},
   "outputs": [],
   "source": []
  },
  {
   "cell_type": "code",
   "execution_count": null,
   "metadata": {},
   "outputs": [],
   "source": []
  },
  {
   "cell_type": "code",
   "execution_count": null,
   "metadata": {},
   "outputs": [],
   "source": []
  },
  {
   "cell_type": "code",
   "execution_count": null,
   "metadata": {},
   "outputs": [],
   "source": []
  },
  {
   "cell_type": "code",
   "execution_count": null,
   "metadata": {},
   "outputs": [],
   "source": []
  },
  {
   "cell_type": "code",
   "execution_count": null,
   "metadata": {},
   "outputs": [],
   "source": []
  }
 ],
 "metadata": {
  "kernelspec": {
   "display_name": "Python 3",
   "language": "python",
   "name": "python3"
  },
  "language_info": {
   "codemirror_mode": {
    "name": "ipython",
    "version": 3
   },
   "file_extension": ".py",
   "mimetype": "text/x-python",
   "name": "python",
   "nbconvert_exporter": "python",
   "pygments_lexer": "ipython3",
   "version": "3.7.1"
  }
 },
 "nbformat": 4,
 "nbformat_minor": 2
}
