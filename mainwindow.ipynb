{
 "cells": [
  {
   "cell_type": "code",
   "execution_count": 1,
   "metadata": {
    "scrolled": false
   },
   "outputs": [
    {
     "name": "stdout",
     "output_type": "stream",
     "text": [
      "mesh is none\n",
      "mesh is none\n",
      "mesh is none\n",
      "b'>7\\x00\\x00'\n",
      "(14142,)\n",
      "42426\n",
      "b'\\xfcc\\x0f\\x00'\n",
      "(1008636,)\n",
      "3025908\n"
     ]
    },
    {
     "ename": "SystemExit",
     "evalue": "",
     "output_type": "error",
     "traceback": [
      "An exception has occurred, use %tb to see the full traceback.\n",
      "\u001b[1;31mSystemExit\u001b[0m\n"
     ]
    },
    {
     "name": "stderr",
     "output_type": "stream",
     "text": [
      "d:\\Users\\PC\\Anaconda3\\lib\\site-packages\\IPython\\core\\interactiveshell.py:2971: UserWarning: To exit: use 'exit', 'quit', or Ctrl-D.\n",
      "  warn(\"To exit: use 'exit', 'quit', or Ctrl-D.\", stacklevel=1)\n"
     ]
    }
   ],
   "source": [
    "from PyQt5.QtWidgets import QOpenGLWidget\n",
    "from PyQt5 import QtCore, QtGui, QtWidgets\n",
    "from PyQt5.QtCore import Qt,QPoint,QLineF\n",
    "from OpenGL.GL import *\n",
    "from OpenGL.arrays import vbo\n",
    "from OpenGL.GLU import *\n",
    "from OpenGL.GLUT import *\n",
    "from numpy import *\n",
    "import math\n",
    "import form\n",
    "from form import Ui_Form\n",
    "from Camera import camera\n",
    "from Vector3f import *\n",
    "from Light import Light\n",
    "from Optimizermaster.FileHandler import FileHandler\n",
    "import sys\n",
    "from ctypes import sizeof, c_float, c_void_p, c_uint\n",
    "data=array([],'f')#导入文件\n",
    "normal=array([],'f')\n",
    "float_size = sizeof(c_float)\n",
    "record_len       = 12 * float_size\n",
    "vertex_offset    = c_void_p(0 * float_size)\n",
    "class GLWidget(QOpenGLWidget):\n",
    "    def __init__(self, *args, **kwargs):\n",
    "        super(GLWidget, self).__init__(*args, **kwargs)\n",
    "        self.setGeometry(QtCore.QRect(10, 10,700, 700))#窗口位置和大小\n",
    "        self.isMove=False\n",
    "        self.isRotate=False\n",
    "    def initializeGL(self):\n",
    "        glClear(GL_COLOR_BUFFER_BIT | GL_DEPTH_BUFFER_BIT);\n",
    "        self.camera=camera()\n",
    "        self.light=Light()\n",
    "    def paintGL(self):\n",
    "        self.camera.Update()\n",
    "        self.light.Update()\n",
    "        #glutWireTeapot(0.5)\n",
    "        if data.any()==False:\n",
    "            print('mesh is none')\n",
    "        else:\n",
    "            #pass\n",
    "            #self.testdraw()\n",
    "            self.VBO()\n",
    "    def testdraw(self):\n",
    "        glBegin(GL_TRIANGLES)\n",
    "        i=0\n",
    "        for i in range(0,len(data),3):\n",
    "            glNormal3f(normal[i],normal[i+1],normal[i+2])\n",
    "            glVertex3f(data[i],data[i+1],data[i+2])\n",
    "        glEnd()\n",
    "    def VBO(self):\n",
    "        '''print(1)\n",
    "        glEnableClientState(GL_VERTEX_ARRAY)\n",
    "        print(2)\n",
    "        data_buffer = (c_float*len(data))(*data)#地址和所在长度\n",
    "        print(3)\n",
    "        glBindBuffer(GL_ARRAY_BUFFER,glGenBuffers(1))\n",
    "        print(4)\n",
    "        glBufferData(GL_ARRAY_BUFFER,data_buffer,GL_STATIC_DRAW)\n",
    "        del data_buffer\n",
    "        print(5)\n",
    "        glVertexPointer(3, GL_FLOAT,record_len , vertex_offset)\n",
    "        print(6)\n",
    "        print(len(data))\n",
    "        #glDrawArrays(GL_TRIANGLES,0,2001)\n",
    "        #offset=0\n",
    "        #glDrawElements(GL_TRIANGLES,3,GL_UNSIGNED_INT, c_void_p(offset))\n",
    "        glDrawArrays(GL_TRIANGLES,0,len(data))\n",
    "        print(7)\n",
    "        glDisableClientState(GL_VERTEX_ARRAY)\n",
    "        '''\n",
    "       \n",
    "        #self.vnor=vbo.VBO(normal)\n",
    "        self.vb=vbo.VBO(data)\n",
    "        \n",
    "        #self.vnor.bind()\n",
    "        self.vb.bind()\n",
    "        \n",
    "        self.vertex=data.take([0,1,2],axis=1)\n",
    "        #self.normal=data.take([3,4,5],axis=1)\n",
    "        #glEnableVertexAttribArray(self.vertex)\n",
    "        #glEnableVertexAttribArray(self.normal)\n",
    "        glEnableClientState(GL_NORMAL_ARRAY)\n",
    "        glEnableClientState(GL_VERTEX_ARRAY)\n",
    "        #glEnableClientState(GL_COLOR_ARRAY)\n",
    "        #glVertexAttribPointer(self.vertex,3, GL_FLOAT,False, 24, self.vb)\n",
    "        #glVertexAttribPointer(self.normal, 3, GL_FLOAT,False, 24, self.vb+12)\n",
    "        \n",
    "        glNormalPointer(GL_FLOAT, 24, self.vb+12)\n",
    "        #glVertexPointerf(self.vb)\n",
    "        \n",
    "        glVertexPointer(3, GL_FLOAT, 24, self.vb )\n",
    "        #glColorPointer(3, GL_FLOAT, 24, self.vb+12 )\n",
    "        #glDrawArrays(GL_TRIANGLES, 0, len(data)*3)\n",
    "        glDrawArrays(GL_TRIANGLES, 0, len(self.vertex))\n",
    "        #self.vnor.unbind()\n",
    "        self.vb.unbind()\n",
    "        #glDisableVertexAttribArray(self.vertex)\n",
    "        #glDisableVertexAttribArray(self.normal)\n",
    "        glDisableClientState(GL_NORMAL_ARRAY)\n",
    "        glDisableClientState(GL_VERTEX_ARRAY)\n",
    "        #glDisableClientState(GL_COLOR_ARRAY)\n",
    "    def mousePressEvent(self,event):\n",
    "        self.myMousePosition=event.pos()\n",
    "        if event.button()==Qt.LeftButton:\n",
    "            self.isMove=True\n",
    "        if event.button()==Qt.RightButton:\n",
    "            self.isRotate=True\n",
    "        #self.update()\n",
    "    def wheelEvent(self,event):\n",
    "        if event.angleDelta().y()>0:\n",
    "            self.camera.right*=0.95\n",
    "            self.camera.top*=0.95\n",
    "        if event.angleDelta().y()<0:\n",
    "            self.camera.right/=0.95\n",
    "            self.camera.top/=0.95\n",
    "        self.update()\n",
    "    def mouseReleaseEvent(self,event):\n",
    "        if event.button()==Qt.LeftButton:\n",
    "            self.isMove=False\n",
    "        if event.button()==Qt.RightButton:\n",
    "            self.isRotate=False\n",
    "        #print('mPos:(X:'+str(self.camera.mPos.X)+',Y:'+str(self.camera.mPos.Y)+',Z:'+str(self.camera.mPos.Z)+')')\n",
    "        #print('mViewCenter:(X:'+str(self.camera.mViewCenter.X)+',Y:'+str(self.camera.mViewCenter.Y)+',Z:'+str(self.camera.mViewCenter.Z)+')')\n",
    "    def mouseMoveEvent(self,event):\n",
    "        if self.isMove:\n",
    "            moveX=event.pos().x()-self.myMousePosition.x()\n",
    "            moveY=event.pos().y()-self.myMousePosition.y()\n",
    "            self.camera.Move(moveX,moveY)\n",
    "            self.myMousePosition=event.pos()\n",
    "        if self.isRotate:\n",
    "            moveX=event.pos().x()-self.myMousePosition.x()\n",
    "            moveY=event.pos().y()-self.myMousePosition.y()\n",
    "            self.camera.Yaw(-moveX)\n",
    "            self.camera.Pitch(-moveY)\n",
    "            self.myMousePosition=event.pos()\n",
    "        self.update()\n",
    "\n",
    "class myform(QtWidgets.QWidget,Ui_Form):\n",
    "    \n",
    "    def __init__(self):\n",
    "        super(myform,self).__init__()\n",
    "        self.setupUi(self)\n",
    "        self.graphicsView1=GLWidget(self)\n",
    "        self.btn=QtWidgets.QPushButton(self)\n",
    "        self.btn.setGeometry(QtCore.QRect(710, 40, 75, 23))\n",
    "        self.btn.setObjectName(\"pushButton\")\n",
    "        self.btn.setText(\"打开文件\")\n",
    "        self.btn.clicked.connect(self.getfile)\n",
    "        self.vertex=array([],'f')\n",
    "    def getfile(self):\n",
    "        global data\n",
    "        global normal\n",
    "        dlg=QtWidgets.QFileDialog()\n",
    "        f=dlg.getOpenFileName(self,'Open File','.\\\\Optimizermaster','STL File (*.stl)')\n",
    "        file=FileHandler().load_mesh(f[0])\n",
    "        data=array(file[0]['mesh'],'f')\n",
    "        normal=array(file[0]['normal'],'f')\n",
    "        #print(data.take([1,2,3],axis=1))\n",
    "        \n",
    "        print(len(data))\n",
    "        #print(data)\n",
    "        #print(len(normal))\n",
    "    def flatten(self,*lll):\n",
    "        return [u for ll in lll for l in ll for u in l]\n",
    "app=QtWidgets.QApplication(sys.argv)\n",
    "mywindow=myform()\n",
    "mywindow.show()\n",
    "app.exec_()\n",
    "sys.exit()"
   ]
  },
  {
   "cell_type": "code",
   "execution_count": null,
   "metadata": {},
   "outputs": [],
   "source": [
    "dir(QtWidgets.QWidget)"
   ]
  },
  {
   "cell_type": "code",
   "execution_count": null,
   "metadata": {},
   "outputs": [],
   "source": [
    "help(QOpenGLWidget.resizeGL)"
   ]
  },
  {
   "cell_type": "code",
   "execution_count": null,
   "metadata": {},
   "outputs": [],
   "source": [
    "print(cos(60*math.pi/180))"
   ]
  },
  {
   "cell_type": "code",
   "execution_count": null,
   "metadata": {},
   "outputs": [],
   "source": [
    "i=10.0\n",
    "print(sys.getsizeof(i))\n",
    "print(type(i))"
   ]
  },
  {
   "cell_type": "code",
   "execution_count": null,
   "metadata": {},
   "outputs": [],
   "source": [
    "import logging"
   ]
  },
  {
   "cell_type": "code",
   "execution_count": null,
   "metadata": {},
   "outputs": [],
   "source": [
    "log=logging.getLogger(__name__)"
   ]
  },
  {
   "cell_type": "code",
   "execution_count": null,
   "metadata": {},
   "outputs": [],
   "source": [
    "print(log)"
   ]
  },
  {
   "cell_type": "code",
   "execution_count": null,
   "metadata": {},
   "outputs": [],
   "source": [
    "dir(glBufferData)"
   ]
  },
  {
   "cell_type": "code",
   "execution_count": null,
   "metadata": {},
   "outputs": [],
   "source": [
    "dir(vbo)"
   ]
  },
  {
   "cell_type": "code",
   "execution_count": null,
   "metadata": {},
   "outputs": [],
   "source": []
  }
 ],
 "metadata": {
  "kernelspec": {
   "display_name": "Python 3",
   "language": "python",
   "name": "python3"
  },
  "language_info": {
   "codemirror_mode": {
    "name": "ipython",
    "version": 3
   },
   "file_extension": ".py",
   "mimetype": "text/x-python",
   "name": "python",
   "nbconvert_exporter": "python",
   "pygments_lexer": "ipython3",
   "version": "3.6.5"
  }
 },
 "nbformat": 4,
 "nbformat_minor": 2
}
