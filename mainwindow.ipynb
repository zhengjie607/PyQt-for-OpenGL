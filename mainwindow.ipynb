{
 "cells": [
  {
   "cell_type": "code",
   "execution_count": 1,
   "metadata": {
    "scrolled": false
   },
   "outputs": [
    {
     "name": "stdout",
     "output_type": "stream",
     "text": [
      "mesh is none\n",
      "mesh is none\n",
      "mesh is none\n",
      "b'>7\\x00\\x00'\n",
      "(14142,)\n",
      "42426\n",
      "Press\n",
      "Press\n"
     ]
    },
    {
     "ename": "SystemExit",
     "evalue": "",
     "output_type": "error",
     "traceback": [
      "An exception has occurred, use %tb to see the full traceback.\n",
      "\u001b[1;31mSystemExit\u001b[0m\n"
     ]
    },
    {
     "name": "stderr",
     "output_type": "stream",
     "text": [
      "d:\\Users\\PC\\Anaconda3\\lib\\site-packages\\IPython\\core\\interactiveshell.py:2971: UserWarning: To exit: use 'exit', 'quit', or Ctrl-D.\n",
      "  warn(\"To exit: use 'exit', 'quit', or Ctrl-D.\", stacklevel=1)\n"
     ]
    }
   ],
   "source": [
    "from PyQt5.QtWidgets import QOpenGLWidget\n",
    "from PyQt5 import QtCore, QtGui, QtWidgets\n",
    "from PyQt5.QtCore import Qt,QPoint,QLineF\n",
    "from numpy import *\n",
    "import math\n",
    "from form import Ui_Form\n",
    "from Optimizermaster.FileHandler import FileHandler\n",
    "import sys\n",
    "from gl_widget import GLWidget\n",
    "\n",
    "class myform(QtWidgets.QWidget,Ui_Form):\n",
    "    \n",
    "    def __init__(self):\n",
    "        super(myform,self).__init__()\n",
    "        self.setupUi(self)\n",
    "        self.graphicsView1=GLWidget(self)\n",
    "        self.btn=QtWidgets.QPushButton(self)\n",
    "        self.btn.setGeometry(QtCore.QRect(710, 40, 75, 23))\n",
    "        self.btn.setObjectName(\"pushButton\")\n",
    "        self.btn.setText(\"打开文件\")\n",
    "        self.btn.clicked.connect(self.getfile)\n",
    "        self.cb=QtWidgets.QComboBox(self)\n",
    "        self.cb.setGeometry(QtCore.QRect(710,70,100,20))\n",
    "        self.cb.addItems(['brass','bronze','brightbronze','chromium','copper','brightcopper','gold','brightgold',\n",
    "                          'whitewax','silver','brightsilver','emerald',\n",
    "                          'jasper','obsidian','pearl','ruby','beryl','blackplastic','blackrubber','violet'])\n",
    "        self.cb.currentIndexChanged.connect(self.selectionChange)\n",
    "    def getfile(self):\n",
    "        dlg=QtWidgets.QFileDialog()\n",
    "        f=dlg.getOpenFileName(self,'Open File','.','STL File (*.stl)')\n",
    "        file=FileHandler().load_mesh(f[0])#f[0]是路径，f[1]是类型\n",
    "        data=array(file['mesh'],'f')\n",
    "        self.graphicsView1.initdata(data)\n",
    "        print(len(data))\n",
    "        self.graphicsView1.update()\n",
    "    def selectionChange(self,i):\n",
    "        self.graphicsView1.material=Materials[self.cb.currentText()]\n",
    "        self.graphicsView1.update()\n",
    "    \n",
    "app=QtWidgets.QApplication(sys.argv)\n",
    "mywindow=myform()\n",
    "mywindow.show()\n",
    "app.exec_()\n",
    "sys.exit()"
   ]
  },
  {
   "cell_type": "code",
   "execution_count": null,
   "metadata": {},
   "outputs": [],
   "source": [
    "materials={\n",
    "    'tong':{\n",
    "        'a':1,\n",
    "        'b':2\n",
    "    },\n",
    "    'tie':{\n",
    "        'a':1,\n",
    "        'b':2\n",
    "    }\n",
    "    \n",
    "}"
   ]
  },
  {
   "cell_type": "code",
   "execution_count": null,
   "metadata": {},
   "outputs": [],
   "source": [
    "print(materials['tong']['a'])"
   ]
  },
  {
   "cell_type": "markdown",
   "metadata": {},
   "source": []
  },
  {
   "cell_type": "code",
   "execution_count": null,
   "metadata": {},
   "outputs": [],
   "source": []
  },
  {
   "cell_type": "code",
   "execution_count": null,
   "metadata": {},
   "outputs": [],
   "source": []
  },
  {
   "cell_type": "code",
   "execution_count": null,
   "metadata": {},
   "outputs": [],
   "source": []
  },
  {
   "cell_type": "code",
   "execution_count": null,
   "metadata": {},
   "outputs": [],
   "source": []
  },
  {
   "cell_type": "code",
   "execution_count": null,
   "metadata": {},
   "outputs": [],
   "source": []
  },
  {
   "cell_type": "code",
   "execution_count": null,
   "metadata": {},
   "outputs": [],
   "source": []
  },
  {
   "cell_type": "code",
   "execution_count": null,
   "metadata": {},
   "outputs": [],
   "source": []
  },
  {
   "cell_type": "code",
   "execution_count": null,
   "metadata": {},
   "outputs": [],
   "source": []
  },
  {
   "cell_type": "code",
   "execution_count": null,
   "metadata": {},
   "outputs": [],
   "source": []
  }
 ],
 "metadata": {
  "kernelspec": {
   "display_name": "Python 3",
   "language": "python",
   "name": "python3"
  },
  "language_info": {
   "codemirror_mode": {
    "name": "ipython",
    "version": 3
   },
   "file_extension": ".py",
   "mimetype": "text/x-python",
   "name": "python",
   "nbconvert_exporter": "python",
   "pygments_lexer": "ipython3",
   "version": "3.6.5"
  }
 },
 "nbformat": 4,
 "nbformat_minor": 2
}
