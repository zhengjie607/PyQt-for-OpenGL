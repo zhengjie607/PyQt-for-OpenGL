{
 "cells": [
  {
   "cell_type": "code",
   "execution_count": null,
   "metadata": {},
   "outputs": [],
   "source": [
    "class camera:\n",
    "    def __init__(self):\n",
    "        self.mPos=Vector3f(0.0,0.0,0.0)\n",
    "        self.mViewCenter=Vector3f(0.0,0.0,-1.0)\n",
    "        self.mUp=Vector3f(0.0,1.0,0.0)\n",
    "        self.forwardDir=self.mViewCenter-self.mPos\n",
    "        self.rithtDir=self.forwardDir.cross(self.mUp)\n",
    "    def Update(self):\n",
    "        glMatrixMode(GL_PROJECTION)\n",
    "        glLoadIdentity()\n",
    "        glOrtho(-1,1,-1,1,-10,10)\n",
    "        gluLookAt(self.mPos.X,self.mPos.Y,self.mPos.Z,self.mViewCenter.X,self.mViewCenter.Y,self.mViewCenter.Z,self.mUp.X,self.mUp.Y,self.mUp.Z)\n",
    "    def Move(self,deltax,deltay):\n",
    "        self.forwardDir.Normalize()\n",
    "        self.rithtDir.Normalize()\n",
    "        self.mUp.Normalize()\n",
    "        dx=self.rithtDir*deltax\n",
    "        dy=self.mUp*deltay\n",
    "        self.mPos=self.mPos-dx+dy\n",
    "        self.mViewCenter=self.mViewCenter-dx+dy\n",
    "    def Rotate(self,viewDirection,angle,x,y,z):\n",
    "        C=cos(angle*math.pi/180)\n",
    "        S=sin(angle*math.pi/180)\n",
    "        newX=viewDirection.X * (x * x + (1 - x * x) * C) + viewDirection.Y * (x * y * (1 - C) - z * S) + viewDirection.Z * (x * z * (1 - C) + y * S)\n",
    "        newY=viewDirection.X * (x * y * (1 - C) + z * S) + viewDirection.Y * (y * y + (1 - y * y) * C) + viewDirection.Z * (y * z * (1 - C) - x * S)\n",
    "        newZ=viewDirection.X * (x * z * (1 - C) - y * S) + viewDirection.Y * (y * z * (1 - C) + x * S) + viewDirection.Z * (z * z + (1 - z * z) * C)\n",
    "        return Vector3f(newX,newY,newZ)\n",
    "    def Yaw(self,angle):\n",
    "        self.forwardDir=self.Rotate(self.forwardDir,angle,self.mUp.X,self.mUp.Y,self.mUp.Z)\n",
    "        self.mPos = self.mViewCenter-self.forwardDir\n",
    "    def Pitch(self,angle):\n",
    "        self.forwardDir=self.Rotate(self.forwardDir,angle,self.rithtDir.X,self.rithtDir.Y,self.rithtDir.Z)\n",
    "        self.mUp=self.Rotate(self.mUp,angle,self.rithtDir.X,self.rithtDir.Y,self.rithtDir.Z)\n",
    "        self.mPos = self.mViewCenter-self.forwardDir"
   ]
  }
 ],
 "metadata": {
  "kernelspec": {
   "display_name": "Python 3",
   "language": "python",
   "name": "python3"
  },
  "language_info": {
   "codemirror_mode": {
    "name": "ipython",
    "version": 3
   },
   "file_extension": ".py",
   "mimetype": "text/x-python",
   "name": "python",
   "nbconvert_exporter": "python",
   "pygments_lexer": "ipython3",
   "version": "3.6.5"
  }
 },
 "nbformat": 4,
 "nbformat_minor": 2
}
