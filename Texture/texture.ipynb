{
 "cells": [
  {
   "cell_type": "code",
   "execution_count": 1,
   "metadata": {
    "scrolled": false
   },
   "outputs": [
    {
     "name": "stdout",
     "output_type": "stream",
     "text": [
      "['1.jpg', '10.jpg', '11.jpg', '12.jpg', '13.jpg', '14.jpg', '15.jpg', '16.jpg', '17.jpg', '2.jpg', '3.jpg', '4.jpg', '5.jpg', '6.jpg', '7.jpg', '8.jpg', '9.jpg']\n"
     ]
    },
    {
     "ename": "SystemExit",
     "evalue": "",
     "output_type": "error",
     "traceback": [
      "An exception has occurred, use %tb to see the full traceback.\n",
      "\u001b[1;31mSystemExit\u001b[0m\n"
     ]
    },
    {
     "name": "stderr",
     "output_type": "stream",
     "text": [
      "d:\\Users\\PC\\Anaconda3\\lib\\site-packages\\IPython\\core\\interactiveshell.py:2971: UserWarning: To exit: use 'exit', 'quit', or Ctrl-D.\n",
      "  warn(\"To exit: use 'exit', 'quit', or Ctrl-D.\", stacklevel=1)\n"
     ]
    }
   ],
   "source": [
    "from PyQt5 import QtCore, QtGui, QtWidgets\n",
    "from gl_widget import GLWidget\n",
    "from Light import Materials\n",
    "from OpenGL.GL import *\n",
    "from OpenGL.arrays import vbo\n",
    "from OpenGL.GLU import *\n",
    "from OpenGL.GLUT import *\n",
    "import sys\n",
    "class myform(QtWidgets.QWidget):\n",
    "    \n",
    "    def __init__(self):\n",
    "        super(myform,self).__init__()\n",
    "        #窗口\n",
    "        self.setObjectName(\"Form\")\n",
    "        self.resize(1200, 900)\n",
    "        self.setWindowTitle(QtCore.QCoreApplication.translate(\"Form\", \"Form\"))\n",
    "        \n",
    "        #直接引用自定义opengl类\n",
    "        self.opengl_widget=GLWidget(self)\n",
    "        self.opengl_widget.changeGeometry(10,10,700,700)\n",
    "app=QtWidgets.QApplication(sys.argv)\n",
    "mywindow=myform()\n",
    "mywindow.show()\n",
    "app.exec_()\n",
    "sys.exit()"
   ]
  },
  {
   "cell_type": "code",
   "execution_count": null,
   "metadata": {},
   "outputs": [],
   "source": [
    "help(vbo)"
   ]
  },
  {
   "cell_type": "code",
   "execution_count": null,
   "metadata": {},
   "outputs": [],
   "source": [
    "import os  \n",
    "      \n",
    "def file_name(file_dir):   \n",
    "    for root, dirs, files in os.walk(file_dir):  \n",
    "        print(\"root:\",root) #当前目录路径  \n",
    "        print(\"dirs:\",dirs) #当前路径下所有子目录  \n",
    "        print(\"files:\",files) #当前路径下所有非目录子文件  \n",
    "file_name(\"image/Animated Texture 75\")"
   ]
  },
  {
   "cell_type": "code",
   "execution_count": null,
   "metadata": {},
   "outputs": [],
   "source": []
  }
 ],
 "metadata": {
  "kernelspec": {
   "display_name": "Python 3",
   "language": "python",
   "name": "python3"
  },
  "language_info": {
   "codemirror_mode": {
    "name": "ipython",
    "version": 3
   },
   "file_extension": ".py",
   "mimetype": "text/x-python",
   "name": "python",
   "nbconvert_exporter": "python",
   "pygments_lexer": "ipython3",
   "version": "3.6.5"
  }
 },
 "nbformat": 4,
 "nbformat_minor": 2
}
